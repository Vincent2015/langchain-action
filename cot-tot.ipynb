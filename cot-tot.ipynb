{
 "cells": [
  {
   "cell_type": "code",
   "execution_count": 10,
   "id": "9f3c8c9f-7340-4f5d-8d5a-4ea79bdee136",
   "metadata": {},
   "outputs": [
    {
     "name": "stderr",
     "output_type": "stream",
     "text": [
      "/Library/Frameworks/Python.framework/Versions/3.8/lib/python3.8/site-packages/langchain_core/_api/deprecation.py:139: LangChainDeprecationWarning: The class `ChatOpenAI` was deprecated in LangChain 0.0.10 and will be removed in 0.3.0. An updated version of the class exists in the langchain-openai package and should be used instead. To use it run `pip install -U langchain-openai` and import as `from langchain_openai import ChatOpenAI`.\n",
      "  warn_deprecated(\n"
     ]
    }
   ],
   "source": [
    "import os\n",
    "os.environ['OPENAI_API_KEY'] = os.environ.get('OPENAI_API_KEY')\n",
    "from langchain.chat_models import ChatOpenAI\n",
    "llm = ChatOpenAI(temperature=0)\n",
    "\n",
    "role_template = \"你是一个为花店电商公司工作的AI助手, 你的目标是帮助客户根据他们的喜好做出明智的决定\"\n",
    "#角色 目的。 理解 \n",
    "cot_template = \"\"\"\n",
    "作为一个为花店电商公司工作的AI助手，我的目标是帮助客户根据他们的喜好做出明智的决定。 \n",
    "\n",
    "我会按部就班的思考，先理解客户的需求，然后考虑各种鲜花的涵义，最后根据这个需求，给出我的推荐。\n",
    "同时，我也会向客户解释我这样推荐的原因。\n",
    "\n",
    "示例 1:\n",
    "人类：我想找一种象征爱情的花。 \n",
    "AI：首先，我理解你正在寻找一种可以象征爱情的花。在许多文化中，\n",
    "红玫瑰被视为爱情的象征，这是因为它们的红色通常与热情和浓烈的感情联系在一起。\n",
    "因此，考虑到这一点，我会推荐红玫瑰。红玫瑰不仅能够象征爱情，同时也可以传达出强烈的感情，这是你在寻找的。\n",
    "\n",
    "示例 2: 人类：我想要一些独特和奇特的花。 \n",
    "AI：从你的需求中，我理解你想要的是独一无二和引人注目的花朵。兰花是一种非常独特并且颜色鲜艳的花，\n",
    "它们在世界上的许多地方都被视为奢侈品和美的象征。\n",
    "因此，我建议你考虑兰花。选择兰花可以满足你对独特和奇特的要求，而且，兰花的美丽和它们所代表的力量和奢侈也可能会吸引你。\"\"\""
   ]
  },
  {
   "cell_type": "code",
   "execution_count": 13,
   "id": "c6e5076b-fd73-46c5-8e71-7ece8b6efeb6",
   "metadata": {},
   "outputs": [
    {
     "name": "stdout",
     "output_type": "stream",
     "text": [
      "content='根据你描述的情况，你的老婆喜欢白色和黄色的花。这两种颜色都代表着纯洁、温暖和快乐的含义。基于这一点，我有以下两种花推荐给你：\\n\\n1. 白色百合：白色百合是一种优雅纯洁的花朵，通常被视为爱情和纯洁的象征。它们的花语包括纯洁、高贵和真诚，适合用来表达对你老婆的爱和尊重。\\n\\n2. 向日葵：向日葵是一种明亮、温暖的花朵，黄色的花瓣象征着快乐、活力和阳光。送给你的老婆向日葵可能会让她感受到你对她的欢乐和温暖的关怀。\\n\\n综上所述，我建议你可以考虑送给你的老婆白色百合和向日葵的花束，这样既能符合她喜欢的颜色，又能传达出你对她的爱和关怀。希望这些建议对你有所帮助！' response_metadata={'token_usage': {'completion_tokens': 363, 'prompt_tokens': 604, 'total_tokens': 967}, 'model_name': 'gpt-3.5-turbo', 'system_fingerprint': None, 'finish_reason': 'stop', 'logprobs': None} id='run-b37c15f8-320a-4af0-8a24-898727b85fc8-0'\n"
     ]
    }
   ],
   "source": [
    "from langchain.prompts import (ChatPromptTemplate,HumanMessagePromptTemplate,SystemMessagePromptTemplate)\n",
    "\n",
    "system_template_role = SystemMessagePromptTemplate.from_template(role_template)\n",
    "system_template_cot = SystemMessagePromptTemplate.from_template(cot_template)\n",
    "\n",
    "human_template=\"{human_input}\"\n",
    "human_prompt = HumanMessagePromptTemplate.from_template(human_template)\n",
    "\n",
    "chat_prompt = ChatPromptTemplate.from_messages([system_template_role,system_template_cot,human_prompt])\n",
    "\n",
    "prompt = chat_prompt.format_prompt(human_input=\"我想给我的老婆购买一些花。她喜欢白色和黄色，你有什么建议吗？\").to_messages()\n",
    "\n",
    "response = llm.invoke(prompt)\n",
    "print(response)"
   ]
  },
  {
   "cell_type": "code",
   "execution_count": 15,
   "id": "555fbff0-86fc-4620-99fd-b0a83f245364",
   "metadata": {},
   "outputs": [],
   "source": [
    "tot_template = \"\"\"\n",
    "\n",
    "假设一个顾客在鲜花网站上询问：“我想为我的妻子购买一束鲜花，但我不确定应该选择哪种鲜花。她喜欢淡雅的颜色和花香。\n",
    "\n",
    "”AI（使用 ToT 框架）： \n",
    "思维步骤 1：理解顾客的需求。顾客想为妻子购买鲜花。顾客的妻子喜欢淡雅的颜色和花香。\n",
    "\n",
    "思维步骤 2：考虑可能的鲜花选择。\n",
    "    候选 1：百合，因为它有淡雅的颜色和花香。\n",
    "    候选 2：玫瑰，选择淡粉色或白色，它们通常有花香。\n",
    "    候选 3：紫罗兰，它有淡雅的颜色和花香。\n",
    "    候选 4：桔梗，它的颜色淡雅但不一定有花香。\n",
    "    候选 5：康乃馨，选择淡色系列，它们有淡雅的花香。\n",
    "    \n",
    "思维步骤 3：根据顾客的需求筛选最佳选择。\n",
    "百合和紫罗兰都符合顾客的需求，因为它们都有淡雅的颜色和花香。淡粉色或白色的玫瑰也是一个不错的选择。\n",
    "桔梗可能不是最佳选择，因为它可能没有花香。康乃馨是一个可考虑的选择。 \n",
    "\n",
    "思维步骤 4：给出建议。\n",
    "“考虑到您妻子喜欢淡雅的颜色和花香，我建议您可以选择百合或紫罗兰。淡粉色或白色的玫瑰也是一个很好的选择。希望这些建议能帮助您做出决策！\"\"\""
   ]
  },
  {
   "cell_type": "code",
   "execution_count": null,
   "id": "fbde209e-9fd6-4b66-86a1-453570e2e147",
   "metadata": {},
   "outputs": [],
   "source": []
  },
  {
   "cell_type": "code",
   "execution_count": 16,
   "id": "c929018e-4beb-43e3-b040-2f05867b4804",
   "metadata": {},
   "outputs": [
    {
     "name": "stdout",
     "output_type": "stream",
     "text": [
      "content='基于您提供的信息，您的妻子喜欢白色和黄色的花。以下是一些符合她喜好的花的建议：\\n\\n1. 白色百合：白色的百合象征纯洁和高贵，是一种非常优雅的选择。\\n2. 向日葵：黄色的向日葵代表阳光和快乐，搭配白色花朵会增添活力和明亮感。\\n3. 白色康乃馨：白色康乃馨代表纯洁和真诚，与黄色花朵搭配会显得清新可爱。\\n4. 白色玫瑰和黄色玫瑰的混搭：将白色玫瑰和黄色玫瑰混搭在一起，既有高贵的气质又有活力和温暖感。\\n\\n希望这些建议能帮助您选择出一束让您的妻子喜欢的花！' response_metadata={'token_usage': {'completion_tokens': 301, 'prompt_tokens': 680, 'total_tokens': 981}, 'model_name': 'gpt-3.5-turbo', 'system_fingerprint': None, 'finish_reason': 'stop', 'logprobs': None} id='run-2f7ec929-4001-4ecd-8c5d-e7f4d21c4919-0'\n"
     ]
    }
   ],
   "source": [
    "system_template_tot = SystemMessagePromptTemplate.from_template(tot_template)\n",
    "chat_prompt = ChatPromptTemplate.from_messages([system_template_role,system_template_tot,human_prompt])\n",
    "\n",
    "prompt = chat_prompt.format_prompt(human_input=\"我想给我的老婆购买一些花。她喜欢白色和黄色，你有什么建议吗？\").to_messages()\n",
    "\n",
    "response = llm.invoke(prompt)\n",
    "print(response)"
   ]
  },
  {
   "cell_type": "code",
   "execution_count": 20,
   "id": "159b7272-6f97-4fa2-ae2f-b45ffb94af97",
   "metadata": {},
   "outputs": [],
   "source": [
    "tot_template_plus = \"\"\"\n",
    "请你模拟三位出色、逻辑性强的专家合作回答关于人为什么会死的问题。每个人都详细地解释他们的思考过程，考虑到其他人之前的解释，并公开承认错误。在每一步，只要可能，每位专家都会在其他人的思考基础上进行完善和建设，并承认他们的贡献。他们继续，直到对问题有一个明确的答案。为了清晰起见，您的整个回应应该是一个 Markdown 表格。 问题是…\n",
    "\"\"\""
   ]
  },
  {
   "cell_type": "code",
   "execution_count": 21,
   "id": "82dfe449-a911-4432-8045-ac532ab5e4c8",
   "metadata": {},
   "outputs": [
    {
     "name": "stdout",
     "output_type": "stream",
     "text": [
      "content='为什么人会死？\\n\\n| 专家 | 思考过程 |\\n| --- | --- |\\n| 专家1 | 人会死是因为生命的终结，生命终结的原因可能有很多，比如疾病、意外、自然灾害等。但更深层次的原因是生物体的细胞无法永远维持正常运作，随着时间的推移，细胞会逐渐老化、损坏，最终导致器官功能衰竭，无法维持生命。这是一个生物学的角度。|\\n| 专家2 | 我同意专家1的观点，细胞老化和器官功能衰竭是导致人死亡的重要原因。此外，我们还可以从生物学角度考虑，人体的免疫系统也在一定程度上影响着生命的长短。免疫系统的失调可能导致疾病的发生，加速器官衰竭，最终导致死亡。|\\n| 专家3 | 我认同专家1和专家2的观点，但我想进一步补充，人类的生命也受到环境因素的影响。比如暴露在有毒物质中、受到辐射、气候变化等都可能加速细胞老化和器官损伤，最终导致死亡。因此，人类的生命是一个复杂的系统，受到多种因素的影响。|\\n| 专家1 | 专家3的观点很有启发性，环境因素对人类生命的影响确实是一个重要的方面。我们可以将人类生命看作是一个综合作用的结果，包括遗传、生活方式、环境等多个方面。这种综合作用导致了细胞老化、器官衰竭，最终导致死亡。|\\n| 专家2 | 我同意专家1的看法，人类生命是一个综合作用的结果。细胞老化、器官衰竭、环境因素等多个方面相互影响，最终导致死亡。因此，人类死亡是一个复杂的过程，需要综合考虑多个因素。|\\n| 专家3 | 综合三位专家的观点，我们可以得出结论：人类死亡是由于细胞老化、器官衰竭、免疫系统失调、环境因素等多种因素综合作用的结果。这些因素相互影响，最终导致生命的终结。因此，人类死亡是一个多因素综合作用的复杂过程。|' response_metadata={'token_usage': {'completion_tokens': 807, 'prompt_tokens': 187, 'total_tokens': 994}, 'model_name': 'gpt-3.5-turbo', 'system_fingerprint': None, 'finish_reason': 'stop', 'logprobs': None} id='run-59970334-ab22-447e-bd70-5d62340fb872-0'\n"
     ]
    }
   ],
   "source": [
    "role_template_plus = \"你是一位逻辑专家\"\n",
    "system_template_role_plus = SystemMessagePromptTemplate.from_template(role_template_plus)\n",
    "system_template_tot_plus = SystemMessagePromptTemplate.from_template(tot_template_plus)\n",
    "chat_prompt = ChatPromptTemplate.from_messages([system_template_role_plus,system_template_tot_plus])\n",
    "\n",
    "prompt = chat_prompt.format_prompt().to_messages()\n",
    "\n",
    "response = llm.invoke(prompt)\n",
    "print(response)"
   ]
  }
 ],
 "metadata": {
  "kernelspec": {
   "display_name": "Python 3 (ipykernel)",
   "language": "python",
   "name": "python3"
  },
  "language_info": {
   "codemirror_mode": {
    "name": "ipython",
    "version": 3
   },
   "file_extension": ".py",
   "mimetype": "text/x-python",
   "name": "python",
   "nbconvert_exporter": "python",
   "pygments_lexer": "ipython3",
   "version": "3.8.1"
  }
 },
 "nbformat": 4,
 "nbformat_minor": 5
}
