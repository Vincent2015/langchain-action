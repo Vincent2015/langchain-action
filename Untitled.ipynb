{
 "cells": [
  {
   "cell_type": "code",
   "execution_count": null,
   "id": "16f9096b-0854-4851-baea-5232bee1746a",
   "metadata": {},
   "outputs": [],
   "source": [
    "import os\n",
    "os.environ[\"OPENAI_API_KEY\"] = os.environ.get(\"OPENAI_API_KEY\")\n",
    "os.environ[\"SERPAI_API_KEY\"] = \"\"\n",
    "\n",
    "import re\n",
    "import agents.weibo_agent import lookup_V\n",
    "\n",
    "\n",
    "if __name__ == \"__main__\":\n",
    "    response_UID = lookup_V(flower_type=\"牡丹\")\n",
    "    print(response_UID)\n",
    "\n",
    "UID = re.findall(r\"\\d\"+,response_UID)[0]\n",
    "print(\"这位鲜花大V的微博ID是\",UID)\n"
   ]
  }
 ],
 "metadata": {
  "kernelspec": {
   "display_name": "Python 3 (ipykernel)",
   "language": "python",
   "name": "python3"
  },
  "language_info": {
   "codemirror_mode": {
    "name": "ipython",
    "version": 3
   },
   "file_extension": ".py",
   "mimetype": "text/x-python",
   "name": "python",
   "nbconvert_exporter": "python",
   "pygments_lexer": "ipython3",
   "version": "3.8.1"
  }
 },
 "nbformat": 4,
 "nbformat_minor": 5
}
