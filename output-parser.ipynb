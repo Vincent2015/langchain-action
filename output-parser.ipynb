{
 "cells": [
  {
   "cell_type": "code",
   "execution_count": 9,
   "id": "4d68f30a-b7bd-4112-b42e-40dd39675765",
   "metadata": {},
   "outputs": [
    {
     "name": "stdout",
     "output_type": "stream",
     "text": [
      "输出格式： The output should be formatted as a JSON instance that conforms to the JSON schema below.\n",
      "\n",
      "As an example, for the schema {\"properties\": {\"foo\": {\"title\": \"Foo\", \"description\": \"a list of strings\", \"type\": \"array\", \"items\": {\"type\": \"string\"}}}, \"required\": [\"foo\"]}\n",
      "the object {\"foo\": [\"bar\", \"baz\"]} is a well-formatted instance of the schema. The object {\"properties\": {\"foo\": [\"bar\", \"baz\"]}} is not well-formatted.\n",
      "\n",
      "Here is the output schema:\n",
      "```\n",
      "{\"properties\": {\"flower_type\": {\"description\": \"\\u9c9c\\u82b1\\u7684\\u79cd\\u7c7b\", \"title\": \"Flower Type\", \"type\": \"string\"}, \"price\": {\"description\": \"\\u9c9c\\u82b1\\u7684\\u4ef7\\u683c\", \"title\": \"Price\", \"type\": \"integer\"}, \"description\": {\"description\": \"\\u9c9c\\u82b1\\u7684\\u63cf\\u8ff0\\u6587\\u6848\", \"title\": \"Description\", \"type\": \"string\"}, \"reason\": {\"description\": \"\\u4e3a\\u4ec0\\u4e48\\u8981\\u8fd9\\u6837\\u7684\\u6587\\u6848\", \"title\": \"Reason\", \"type\": \"string\"}}, \"required\": [\"flower_type\", \"price\", \"description\", \"reason\"]}\n",
      "```\n",
      "提示： input_variables=['flower', 'price'] partial_variables={'format_instructions': 'The output should be formatted as a JSON instance that conforms to the JSON schema below.\\n\\nAs an example, for the schema {\"properties\": {\"foo\": {\"title\": \"Foo\", \"description\": \"a list of strings\", \"type\": \"array\", \"items\": {\"type\": \"string\"}}}, \"required\": [\"foo\"]}\\nthe object {\"foo\": [\"bar\", \"baz\"]} is a well-formatted instance of the schema. The object {\"properties\": {\"foo\": [\"bar\", \"baz\"]}} is not well-formatted.\\n\\nHere is the output schema:\\n```\\n{\"properties\": {\"flower_type\": {\"description\": \"\\\\u9c9c\\\\u82b1\\\\u7684\\\\u79cd\\\\u7c7b\", \"title\": \"Flower Type\", \"type\": \"string\"}, \"price\": {\"description\": \"\\\\u9c9c\\\\u82b1\\\\u7684\\\\u4ef7\\\\u683c\", \"title\": \"Price\", \"type\": \"integer\"}, \"description\": {\"description\": \"\\\\u9c9c\\\\u82b1\\\\u7684\\\\u63cf\\\\u8ff0\\\\u6587\\\\u6848\", \"title\": \"Description\", \"type\": \"string\"}, \"reason\": {\"description\": \"\\\\u4e3a\\\\u4ec0\\\\u4e48\\\\u8981\\\\u8fd9\\\\u6837\\\\u7684\\\\u6587\\\\u6848\", \"title\": \"Reason\", \"type\": \"string\"}}, \"required\": [\"flower_type\", \"price\", \"description\", \"reason\"]}\\n```'} template='您是一位专业的鲜花店文案撰写员。对于售价为 {price} 元的 {flower} ，您能提供一个吸引人的简短中文描述吗？{format_instructions}'\n"
     ]
    }
   ],
   "source": [
    "import os\n",
    "os.environ['OPENAI_API_KEY'] = os.environ.get('OPENAI_API_KEY')\n",
    "\n",
    "from langchain import OpenAI\n",
    "model = OpenAI(model_name=\"gpt-3.5-turbo-instruct\")\n",
    "\n",
    "\n",
    "\n",
    "import pandas as pd\n",
    "df = pd.DataFrame(columns=['flower_type','price','description','reason'])\n",
    "flowers = ['玫瑰','百合','康乃馨']\n",
    "prices = ['50','30','20']\n",
    "\n",
    "from pydantic import BaseModel,Field\n",
    "class FlowerDescription(BaseModel):\n",
    "    flower_type: str = Field(description='鲜花的种类')\n",
    "    price : int =  Field(description='鲜花的价格')    \n",
    "    description: str = Field(description='鲜花的描述文案')\n",
    "    reason: str = Field(description='为什么要这样的文案')\n",
    "\n",
    "'''\n",
    "from langchain.output_parsers import PydanticOutputParser\n",
    "output_parser = PydanticOutputParser(pydantic_object=FlowerDescription)\n",
    "\n",
    "format_instructions = output_parser.get_format_instructions()\n",
    "\n",
    "print('输出格式',format_instructions)\n",
    "\n",
    "\n",
    "from langchain import PromptTemplate\n",
    "prompt_template= \"\"\"您是一位专业的鲜花店文案撰写员，对于售价为{price}的{flower},您能提供一个吸引人的简短中文描述吗？\n",
    "{format_instructions}\n",
    "\"\"\"\n",
    "\n",
    "prompt = PromptTemplate.from_template(prompt_template,partial_variables={\"format_instructions\":format_instructions})\n",
    "\n",
    "print(prompt)'''\n",
    "\n",
    "from langchain.output_parsers import PydanticOutputParser\n",
    "output_parser = PydanticOutputParser(pydantic_object=FlowerDescription)\n",
    "# 获取输出格式指示\n",
    "format_instructions = output_parser.get_format_instructions()\n",
    "# 打印提示\n",
    "print(\"输出格式：\",format_instructions)\n",
    "\n",
    "from langchain import PromptTemplate\n",
    "prompt_template = \"\"\"您是一位专业的鲜花店文案撰写员。对于售价为 {price} 元的 {flower} ，您能提供一个吸引人的简短中文描述吗？{format_instructions}\"\"\"# 根据模板创建提示，同时在提示中加入输出解析器的说明\n",
    "prompt = PromptTemplate.from_template(prompt_template, partial_variables={\"format_instructions\": format_instructions}) # 打印提示\n",
    "print(\"提示：\", prompt)\n",
    "\n",
    "    "
   ]
  },
  {
   "cell_type": "code",
   "execution_count": 10,
   "id": "51b388d5-8add-4cb4-aa96-1b67b8ceaf70",
   "metadata": {},
   "outputs": [
    {
     "name": "stdout",
     "output_type": "stream",
     "text": [
      "输出数据 [{'flower_type': '玫瑰', 'price': 50, 'description': '这束美丽的玫瑰，花瓣鲜艳，香味浓郁，是爱情的象征。它能让您的心上人感受到您的浪漫和真挚的情感，是送礼的最佳选择。', 'reason': '玫瑰是最受人喜爱的花朵之一，它的美丽和芬芳能让人心情愉悦，同时也能表达出您的爱意和关怀。而且，这束玫瑰的价格实惠，是您表达爱意的最佳选择。'}, {'flower_type': '百合', 'price': 30, 'description': '这束美丽的百合，含蓄而又高雅，如同一位温婉的贵妇人，适合送给心仪的女生或者妈妈，传递出您对她们温柔的爱意。', 'reason': '百合象征纯洁和高贵，也代表着美好的祝愿，让您的爱意和祝福直达对方心中。'}, {'flower_type': '康乃馨', 'price': 20, 'description': '康乃馨是一种美丽的花朵，它象征着爱情和温柔。它的花朵绽放时呈现出淡粉色，非常柔美动人。无论是作为礼物还是装饰，都能给人带来温馨和浪漫的感觉。', 'reason': '康乃馨是一种常见的鲜花，价格实惠，适合送给亲朋好友或者自己欣赏。它也是表达爱意和感谢的最佳选择。'}]\n"
     ]
    }
   ],
   "source": [
    "for flower,price in zip(flowers,prices):\n",
    "    input = prompt.format(flower=flower,price=price)\n",
    "    #print('提示词',input)\n",
    "    output = model.invoke(input)\n",
    "    parsed_output =  output_parser.parse(output)\n",
    "    parsed_output_dict = parsed_output.dict()\n",
    "    df.loc[len(df)] = parsed_output.dict()\n",
    "\n",
    "print('输出数据',df.to_dict(orient='records'))"
   ]
  },
  {
   "cell_type": "code",
   "execution_count": 19,
   "id": "d385f4a0-77af-4197-820f-88e9a35700d7",
   "metadata": {},
   "outputs": [
    {
     "name": "stdout",
     "output_type": "stream",
     "text": [
      "name='康乃馨' colors=['粉红色', '白色', '红色', '紫色', '黄色']\n"
     ]
    }
   ],
   "source": [
    "from typing import List\n",
    "from langchain.chat_models import ChatOpenAI\n",
    "from langchain.output_parsers import OutputFixingParser\n",
    "\n",
    "class Flower(BaseModel):\n",
    "    name:str = Field(description='name of flower')\n",
    "    colors:List[str] = Field(description='the colors of this flower')\n",
    "\n",
    "flower_query = \"Generate the characters for a random flower.\"\n",
    "misformatted = \"{'name':'康乃馨','colors':['粉红色','白色','红色','紫色','黄色']}\"\n",
    "misformatted = '{\"name\":\"康乃馨\",\"colors\":[\"粉红色\",\"白色\",\"红色\",\"紫色\",\"黄色\"]}'\n",
    "\n",
    "parser = PydanticOutputParser(pydantic_object=Flower)\n",
    "\n",
    "parser.parse(misformatted)\n",
    "print(parser.parse(misformatted))\n",
    "\n",
    "new_parser = OutputFixingParser.from_llm(parser=parser, llm=ChatOpenAI())\n",
    "# 使用新的解析器解析不正确的输出\n",
    "result = new_parser.parse(misformatted) # 错误被自动修正\n",
    "#print(result) # 打印解析后的输出结果"
   ]
  },
  {
   "cell_type": "code",
   "execution_count": 32,
   "id": "44696a2b-4758-4899-9413-5d0fc5edf205",
   "metadata": {},
   "outputs": [
    {
     "name": "stdout",
     "output_type": "stream",
     "text": [
      "RetryWithErrorOutputParser的parse结果: action='search' action_input='colors of orchid'\n"
     ]
    }
   ],
   "source": [
    "template = \"\"\"Based on the user question,provide an Action and Iuput for what step should be taken.\n",
    "{format_instructions}\n",
    "Question: {query}\n",
    "Response: \"\"\"\n",
    "\n",
    "class Action(BaseModel):\n",
    "    action:str = Field(description='action to take')\n",
    "    action_input:str = Field(description='inuout to the action')\n",
    "\n",
    "parser = PydanticOutputParser(pydantic_object=Action)\n",
    "\n",
    "prompt = PromptTemplate(\n",
    "    template = \"Answer the user query.\\n {format_instructions}\\n{query}\\n\",\n",
    "    input_variables=[\"query\"],\n",
    "    partial_variables= {\"format_instructions\":parser.get_format_instructions()},\n",
    ")\n",
    "'''\n",
    "prompt = PromptTemplate(\n",
    "    template=\"Answer the user query.\\n{format_instructions}\\n{query}\\n\",\n",
    "    input_variables=[\"query\"],\n",
    "    partial_variables={\"format_instructions\": parser.get_format_instructions()},\n",
    ")'''\n",
    "prompt_value = prompt.format_prompt(query=\"what are the colors of orchild?\")\n",
    "bad_response = '{\"action\":\"search\"}'\n",
    "\n",
    "\n",
    "#parser.parse(bad_response)\n",
    "\n",
    "fix_parser = OutputFixingParser.from_llm(parser=parser, llm=ChatOpenAI())\n",
    "#fix_parser.parse(bad_response)\n",
    "\n",
    "\n",
    "\n",
    "from langchain.output_parsers import RetryWithErrorOutputParser\n",
    "from langchain.llms import OpenAI\n",
    "retry_parser = RetryWithErrorOutputParser.from_llm( parser=parser, llm=OpenAI(temperature=0))\n",
    "parse_result = retry_parser.parse_with_prompt(bad_response, prompt_value)\n",
    "print('RetryWithErrorOutputParser的parse结果:',parse_result)\n"
   ]
  },
  {
   "cell_type": "code",
   "execution_count": null,
   "id": "e2fb4753-ecfd-43c6-882a-39437ce87e78",
   "metadata": {},
   "outputs": [],
   "source": []
  }
 ],
 "metadata": {
  "kernelspec": {
   "display_name": "Python 3 (ipykernel)",
   "language": "python",
   "name": "python3"
  },
  "language_info": {
   "codemirror_mode": {
    "name": "ipython",
    "version": 3
   },
   "file_extension": ".py",
   "mimetype": "text/x-python",
   "name": "python",
   "nbconvert_exporter": "python",
   "pygments_lexer": "ipython3",
   "version": "3.8.1"
  }
 },
 "nbformat": 4,
 "nbformat_minor": 5
}
