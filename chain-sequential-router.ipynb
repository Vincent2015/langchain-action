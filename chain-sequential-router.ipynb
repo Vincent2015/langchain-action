{
 "cells": [
  {
   "cell_type": "code",
   "execution_count": 40,
   "id": "fd451ffd-3722-4416-8749-d75f831b962a",
   "metadata": {},
   "outputs": [],
   "source": [
    "import os"
   ]
  },
  {
   "cell_type": "code",
   "execution_count": 37,
   "id": "92348c8c-fe78-4998-818e-a41b7202e978",
   "metadata": {},
   "outputs": [
    {
     "name": "stdout",
     "output_type": "stream",
     "text": [
      "[{'text': '\\n\\n\"你是我心中最美的花朵，永远都散发着迷人的芬芳，让我为你倾尽一生的爱。\"'}, {'text': '\\n\\n百合的话语是“我爱你”。'}, {'text': '\\n\\n\"我是爱情的象征，美丽而短暂，但永远留在你的心中。\"'}]\n"
     ]
    }
   ],
   "source": [
    "\n",
    "os.environ['OPENAI_API_KEY'] = os.environ.get('OPENAI_API_KEY')\n",
    "\n",
    "from langchain import PromptTemplate,OpenAI,LLMChain\n",
    "\n",
    "template = \"{flower}的话语是？\"\n",
    "\n",
    "llm1 = OpenAI(temperature=0)\n",
    "\n",
    "llmchain = LLMChain(\n",
    "    llm=llm,\n",
    "    prompt = PromptTemplate.from_template(template)\n",
    ")\n",
    "#result = llmchain.invoke(\"玫瑰\")\n",
    "#print(result)\n",
    "\n",
    "# apply允许您针对输入列表运行链\n",
    "input_list = [ \n",
    "    {\"flower\": \"玫瑰\",'season': \"夏季\"},\n",
    "    {\"flower\": \"百合\",'season': \"春季\"}, \n",
    "    {\"flower\": \"郁金香\",'season': \"秋季\"}]\n",
    "result = llmchain.apply(input_list)\n",
    "print(result)"
   ]
  },
  {
   "cell_type": "code",
   "execution_count": null,
   "id": "0c85b1b1-b9f3-450f-a2f7-b3f7963aa433",
   "metadata": {},
   "outputs": [],
   "source": []
  },
  {
   "cell_type": "code",
   "execution_count": 48,
   "id": "de31fa22-6afa-409c-acc5-0f4e6bfb33a9",
   "metadata": {},
   "outputs": [],
   "source": [
    "from langchain.chains import SequentialChain\n",
    "llm1 = OpenAI(temperature=0.7)\n",
    "template = \"\"\"\n",
    "你是一个植物学家。给定花的名称和类型，你需要为这种花写一个100字左右的介绍。\n",
    "\n",
    "花名：{name}\n",
    "颜色:{color}\n",
    "植物学家：这是关于上述花的介绍\"\n",
    "\"\"\"\n",
    "\n",
    "prompt_template = PromptTemplate(\n",
    "    input_variables=[\"name\",\"color\"],template=template\n",
    ")\n",
    "\n",
    "introduction_chain = LLMChain(llm=llm1,prompt=prompt_template,output_key=\"introduction\")\n",
    "#introduction_chain = LLMChain(llm=llm, prompt=prompt_template, output_key=\"introduction\")"
   ]
  },
  {
   "cell_type": "code",
   "execution_count": 49,
   "id": "0a1dde18-bd88-4018-823b-b31a978e19fe",
   "metadata": {},
   "outputs": [],
   "source": [
    "#2\n",
    "llm2 = OpenAI(temperature=0.7)\n",
    "review_tempate = \"\"\"\n",
    "你是一位鲜花评论家，给定一种鲜花的介绍。你需要为这种花写一篇100字左右的评论。\n",
    "\n",
    "鲜花介绍\n",
    "{introduction}\n",
    "花评人对上述花的评论: \"\"\"\n",
    "prompt_template = PromptTemplate(\n",
    "    input_variables=[\"introduction\"],template=template\n",
    ")\n",
    "review_chain = LLMChain(llm=llm2,prompt=prompt_template,output_key=\"review\")\n",
    "\n",
    "#3\n",
    "llm3 = OpenAI(temperature=0.7)\n",
    "\n",
    "social_tempate = \"\"\"\n",
    "你是一家花店的运营经理。给定一种花的介绍和评论。你需要为这种花写一篇200字左右的社交媒体文章。\n",
    "\n",
    "鲜花介绍\n",
    "{introduction}\n",
    "花评人对上述花的评论: \n",
    "{review}\n",
    "\n",
    "社交媒体文章：\n",
    "\"\"\"\n",
    "prompt_template = PromptTemplate(\n",
    "    input_variables=[\"introduction\",\"review\"],template=template\n",
    ")\n",
    "social_post_chain = LLMChain(llm=llm3,prompt=prompt_template,output_key=\"social_post_text\")"
   ]
  },
  {
   "cell_type": "code",
   "execution_count": 50,
   "id": "b8cb12e2-4b81-45f8-a806-5cb880d35686",
   "metadata": {},
   "outputs": [
    {
     "name": "stdout",
     "output_type": "stream",
     "text": [
      "{'name': '玫瑰', 'color': '黑色', 'introduction': '\\n玫瑰是一种美丽的花朵，它的花瓣盛开时散发着迷人的香气。它的颜色通常是红色或粉色，但也有一些特殊的品种，如黑色玫瑰。黑色玫瑰是一种罕见的珍贵品种，它象征着神秘和浪漫。它的花瓣光滑而柔软，给人一种温柔的感觉。它的外观和香气吸引了无数人的眼球，被用来表达爱情和感谢。在自然界，黑色玫瑰也是一种难得的奇迹，它的生长需要特殊的环境和护理。作为植物学家，我对玫瑰的美丽和生长过程', 'review': '\\n玫瑰是一种广泛种植的美丽花卉，其优雅的花形和丰富的色彩令人难以抗拒。其中，黑色玫瑰更是独具魅力，它代表着神秘和典雅。黑色玫瑰属于蔷薇科，是多年生木质植物。它的花朵呈球形，花瓣紧密排列，花蕊隐约可见。黑色玫瑰的叶子呈羽状复叶，叶片有光泽，株高可达1米。它喜欢温暖湿润的气候，适宜生长在肥沃的土壤中。在花语中，黑色玫瑰象征着热情和沉默，也是', 'social_post_text': '\\n玫瑰是一种美丽的花卉，它的颜色多样，包括红色、粉色、白色和黄色等。但在所有的花色中，黑色玫瑰无疑是最特别的一种。黑色玫瑰具有神秘而优雅的气质，它的花瓣如丝绸般柔软，绽放出迷人的光芒。它的花语是神秘和热情，代表着深深的爱和浪漫的情怀。黑色玫瑰在鲜花市场上备受欢迎，常被用于表达对心爱之人的感情。它也是许多婚礼上必不可少的花朵，代表着永恒的爱情和忠诚。无论是作为'}\n"
     ]
    }
   ],
   "source": [
    "overall_chain = SequentialChain(\n",
    "    chains=[introduction_chain,review_chain,social_post_chain],\n",
    "    input_variables=[\"name\",\"color\"],\n",
    "    output_variables=[\"introduction\",\"review\",\"social_post_text\"]\n",
    ")\n",
    "\n",
    "result = overall_chain({\"name\":\"玫瑰\",\"color\":\"黑色\"})\n",
    "print(result)"
   ]
  },
  {
   "cell_type": "markdown",
   "id": "20df4da3-7af7-4518-aaa4-ae609ddea065",
   "metadata": {
    "editable": true,
    "slideshow": {
     "slide_type": ""
    },
    "tags": []
   },
   "source": [
    "#注意链里的每个大模型实例，可以是同一个实例，也可以是不同的实例。"
   ]
  },
  {
   "cell_type": "code",
   "execution_count": 52,
   "id": "fcd231b7-59a8-499b-b780-17b97a937581",
   "metadata": {},
   "outputs": [],
   "source": [
    "# 构建两个场景的模板\n",
    "flower_care_template = \"\"\"你是一个经验丰富的园丁，擅长解答关于养花育花的问题。\n",
    "                        下面是需要你来回答的问题:\n",
    "                        {input}\"\"\"\n",
    "\n",
    "flower_deco_template = \"\"\"你是一位网红插花大师，擅长解答关于鲜花装饰的问题。\n",
    "                        下面是需要你来回答的问题:\n",
    "                        {input}\"\"\"\n",
    "\n",
    "# 构建提示信息\n",
    "prompt_infos = [\n",
    "    {\n",
    "        \"key\": \"flower_care\",\n",
    "        \"description\": \"适合回答关于鲜花护理的问题\",\n",
    "        \"template\": flower_care_template,\n",
    "    },\n",
    "    {\n",
    "        \"key\": \"flower_decoration\",\n",
    "        \"description\": \"适合回答关于鲜花装饰的问题\",\n",
    "        \"template\": flower_deco_template,\n",
    "    }]"
   ]
  },
  {
   "cell_type": "code",
   "execution_count": 54,
   "id": "10775716-4bc2-498a-8b8f-82705ad147ac",
   "metadata": {},
   "outputs": [
    {
     "name": "stdout",
     "output_type": "stream",
     "text": [
      "目标提示flower_care\n",
      "目标提示flower_decoration\n"
     ]
    }
   ],
   "source": [
    "llm = OpenAI()\n",
    "chain_map={}\n",
    "for info in prompt_infos:\n",
    "    prompt = PromptTemplate(\n",
    "        template = info[\"template\"],\n",
    "        input_variable=[\"input\"]\n",
    "    )\n",
    "    print(\"目标提示\"+info[\"key\"])\n",
    "    chain = LLMChain(llm=llm,prompt=prompt,verbose=True)\n",
    "    chain_map[info[\"key\"]]= chain"
   ]
  },
  {
   "cell_type": "code",
   "execution_count": 60,
   "id": "fddfcc02-9c9a-447f-988d-5e4a59d28d5e",
   "metadata": {},
   "outputs": [
    {
     "name": "stdout",
     "output_type": "stream",
     "text": [
      "路由模版:\n",
      " Given a raw text input to a language model select the model prompt best suited for the input. You will be given the names of the available prompts and a description of what the prompt is best suited for. You may also revise the original input if you think that revising it will ultimately lead to a better response from the language model.\n",
      "\n",
      "<< FORMATTING >>\n",
      "Return a markdown code snippet with a JSON object formatted to look like:\n",
      "```json\n",
      "{{\n",
      "    \"destination\": string \\ name of the prompt to use or \"DEFAULT\"\n",
      "    \"next_inputs\": string \\ a potentially modified version of the original input\n",
      "}}\n",
      "```\n",
      "\n",
      "REMEMBER: \"destination\" MUST be one of the candidate prompt names specified below OR it can be \"DEFAULT\" if the input is not well suited for any of the candidate prompts.\n",
      "REMEMBER: \"next_inputs\" can just be the original input if you don't think any modifications are needed.\n",
      "\n",
      "<< CANDIDATE PROMPTS >>\n",
      "flower_care:适合回答关于鲜花护理的问题\n",
      "flower_decoration:适合回答关于鲜花装饰的问题\n",
      "\n",
      "<< INPUT >>\n",
      "{input}\n",
      "\n",
      "<< OUTPUT (must include ```json at the start of the response) >>\n",
      "<< OUTPUT (must end with ```) >>\n",
      "\n"
     ]
    }
   ],
   "source": [
    "from langchain.chains.router.llm_router import LLMRouterChain,RouterOutputParser\n",
    "from langchain.chains.router.multi_prompt_prompt import MULTI_PROMPT_ROUTER_TEMPLATE as RouterTemplate\n",
    "\n",
    "destinations =[f\"{p['key']}:{p['description']}\" for p in prompt_infos]\n",
    "router_template = RouterTemplate.format(destinations=\"\\n\".join(destinations))\n",
    "print(\"路由模版:\\n\",router_template)"
   ]
  },
  {
   "cell_type": "code",
   "execution_count": 62,
   "id": "187a9baa-06f5-4560-990f-919df1a7be76",
   "metadata": {},
   "outputs": [
    {
     "name": "stdout",
     "output_type": "stream",
     "text": [
      "路由提示\n",
      " input_variables=['input'] output_parser=RouterOutputParser() template='Given a raw text input to a language model select the model prompt best suited for the input. You will be given the names of the available prompts and a description of what the prompt is best suited for. You may also revise the original input if you think that revising it will ultimately lead to a better response from the language model.\\n\\n<< FORMATTING >>\\nReturn a markdown code snippet with a JSON object formatted to look like:\\n```json\\n{{\\n    \"destination\": string \\\\ name of the prompt to use or \"DEFAULT\"\\n    \"next_inputs\": string \\\\ a potentially modified version of the original input\\n}}\\n```\\n\\nREMEMBER: \"destination\" MUST be one of the candidate prompt names specified below OR it can be \"DEFAULT\" if the input is not well suited for any of the candidate prompts.\\nREMEMBER: \"next_inputs\" can just be the original input if you don\\'t think any modifications are needed.\\n\\n<< CANDIDATE PROMPTS >>\\nflower_care:适合回答关于鲜花护理的问题\\nflower_decoration:适合回答关于鲜花装饰的问题\\n\\n<< INPUT >>\\n{input}\\n\\n<< OUTPUT (must include ```json at the start of the response) >>\\n<< OUTPUT (must end with ```) >>\\n'\n"
     ]
    }
   ],
   "source": [
    "router_prompt= PromptTemplate(\n",
    "    template = router_template,\n",
    "    input_variables=[\"input\"],\n",
    "    output_parser = RouterOutputParser()\n",
    ")\n",
    "print(\"路由提示\\n\",router_prompt)\n",
    "\n",
    "router_chain = LLMRouterChain.from_llm(llm,router_prompt,verbose=True)"
   ]
  },
  {
   "cell_type": "code",
   "execution_count": 63,
   "id": "1b2c4802-a624-4d2e-85b0-4b138738b9dd",
   "metadata": {},
   "outputs": [],
   "source": [
    "from langchain.chains import ConversationChain\n",
    "default_chain = ConversationChain(llm=llm,output_key=\"text\",verbose=True)"
   ]
  },
  {
   "cell_type": "code",
   "execution_count": 65,
   "id": "ae7d4caa-30e4-4ef9-a24b-dd9bd3682b75",
   "metadata": {},
   "outputs": [
    {
     "name": "stdout",
     "output_type": "stream",
     "text": [
      "\n",
      "\n",
      "\u001b[1m> Entering new MultiPromptChain chain...\u001b[0m\n",
      "\n",
      "\n",
      "\u001b[1m> Entering new LLMRouterChain chain...\u001b[0m\n",
      "\n",
      "\u001b[1m> Finished chain.\u001b[0m\n",
      "flower_care: {'input': '如何为玫瑰花浇水？'}\n",
      "\n",
      "\u001b[1m> Entering new LLMChain chain...\u001b[0m\n",
      "Prompt after formatting:\n",
      "\u001b[32;1m\u001b[1;3m你是一个经验丰富的园丁，擅长解答关于养花育花的问题。\n",
      "                        下面是需要你来回答的问题:\n",
      "                        如何为玫瑰花浇水？\u001b[0m\n",
      "\n",
      "\u001b[1m> Finished chain.\u001b[0m\n",
      "\n",
      "\u001b[1m> Finished chain.\u001b[0m\n",
      "{'input': '如何为玫瑰花浇水？', 'text': '\\n\\n为玫瑰花浇水需要注意以下几点：\\n\\n1. 浇水的频率：一般情况下，玫瑰花需要每周浇水2-3次，但具体的浇水频率还要根据当地的气候、温度和土壤湿度来决定。在天气炎热干燥的时候，可能需要每天浇水。\\n\\n2. 浇水的时间：最佳的浇水时间是在早晨或者傍晚，避免在太阳最强烈的时候浇水，以免水滴在叶面上引起叶子烧伤。\\n\\n3. 浇水的方式：可以使用浇水壶或者喷壶来浇水，让水流缓慢、均匀地淋在土壤上。避免直接浇水到花'}\n"
     ]
    }
   ],
   "source": [
    "from langchain.chains.router import MultiPromptChain\n",
    "chain = MultiPromptChain(\n",
    "    router_chain = router_chain,\n",
    "    destination_chains = chain_map,\n",
    "    default_chain=default_chain,\n",
    "    verbose=True\n",
    ")\n",
    "print(chain.invoke(\"如何为玫瑰花浇水？\"))"
   ]
  },
  {
   "cell_type": "code",
   "execution_count": 66,
   "id": "ccd3fed4-b621-4a5a-be48-d8aa450fcb36",
   "metadata": {},
   "outputs": [
    {
     "name": "stdout",
     "output_type": "stream",
     "text": [
      "\n",
      "\n",
      "\u001b[1m> Entering new MultiPromptChain chain...\u001b[0m\n",
      "\n",
      "\n",
      "\u001b[1m> Entering new LLMRouterChain chain...\u001b[0m\n",
      "\n",
      "\u001b[1m> Finished chain.\u001b[0m\n",
      "None: {'input': '如何考入清华大学？'}\n",
      "\n",
      "\u001b[1m> Entering new ConversationChain chain...\u001b[0m\n",
      "Prompt after formatting:\n",
      "\u001b[32;1m\u001b[1;3mThe following is a friendly conversation between a human and an AI. The AI is talkative and provides lots of specific details from its context. If the AI does not know the answer to a question, it truthfully says it does not know.\n",
      "\n",
      "Current conversation:\n",
      "\n",
      "Human: 如何考入清华大学？\n",
      "AI:\u001b[0m\n",
      "\n",
      "\u001b[1m> Finished chain.\u001b[0m\n",
      "\n",
      "\u001b[1m> Finished chain.\u001b[0m\n",
      "{'input': '如何考入清华大学？', 'history': '', 'text': ' 要考入清华大学，首先你需要参加高考，通过高考后才能考入清华大学。清华大学是一所位于北京的顶尖大学，它的历史可以追溯到1911年。每年清华大学都会招收来自全国各地的优秀学生，但是入学难度非常高。通常需要在高考中获得非常优秀的成绩，同时还要通过清华大学的招生考试和面试。如果你有兴趣考入清华大学，建议你提前准备，多加练习，努力提高自己的学习成绩。'}\n"
     ]
    }
   ],
   "source": [
    "print(chain.invoke(\"如何考入清华大学？\"))"
   ]
  },
  {
   "cell_type": "code",
   "execution_count": 68,
   "id": "8ac77f95-dfb6-4903-b6cd-812d9b5894b8",
   "metadata": {},
   "outputs": [
    {
     "name": "stdout",
     "output_type": "stream",
     "text": [
      "\n",
      "\n",
      "\u001b[1m> Entering new MultiPromptChain chain...\u001b[0m\n",
      "\n",
      "\n",
      "\u001b[1m> Entering new LLMRouterChain chain...\u001b[0m\n",
      "\n",
      "\u001b[1m> Finished chain.\u001b[0m\n",
      "flower_decoration: {'input': '如何布置花饰?'}\n",
      "\n",
      "\u001b[1m> Entering new LLMChain chain...\u001b[0m\n",
      "Prompt after formatting:\n",
      "\u001b[32;1m\u001b[1;3m你是一位网红插花大师，擅长解答关于鲜花装饰的问题。\n",
      "                        下面是需要你来回答的问题:\n",
      "                        如何布置花饰?\u001b[0m\n",
      "\n",
      "\u001b[1m> Finished chain.\u001b[0m\n",
      "\n",
      "\u001b[1m> Finished chain.\u001b[0m\n",
      "{'input': '如何布置花饰?', 'text': '\\n布置花饰的方法有很多种，可以根据不同的场合和需求来选择合适的方式。以下是一些常用的布置花饰的方法：\\n\\n1. 花束：将不同种类或颜色的鲜花捆绑在一起，形成一个小束，并用绳子或丝带绑紧。可以放在花瓶中，也可以直接手持或挂在墙上，适合用于婚礼、生日等场合。\\n\\n2. 花篮：将鲜花放在篮子中，可以根据需要加上一些绿叶或装饰物，可以作为中心装饰放在桌子上或用来装饰门口。\\n\\n3. 花环：将鲜花或干花串成一个圆形，可以悬挂在门口或墙上，也可以放在桌子上'}\n"
     ]
    }
   ],
   "source": [
    "print(chain.invoke(\"如何为婚礼现场布置花饰？\"))"
   ]
  }
 ],
 "metadata": {
  "kernelspec": {
   "display_name": "Python 3 (ipykernel)",
   "language": "python",
   "name": "python3"
  },
  "language_info": {
   "codemirror_mode": {
    "name": "ipython",
    "version": 3
   },
   "file_extension": ".py",
   "mimetype": "text/x-python",
   "name": "python",
   "nbconvert_exporter": "python",
   "pygments_lexer": "ipython3",
   "version": "3.8.1"
  },
  "toc": {
   "base_numbering": 0
  }
 },
 "nbformat": 4,
 "nbformat_minor": 5
}
