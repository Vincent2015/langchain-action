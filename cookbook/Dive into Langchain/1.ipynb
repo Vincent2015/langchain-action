{
 "cells": [
  {
   "cell_type": "markdown",
   "id": "07673d54-d8d5-4e6e-b232-b52074c8a230",
   "metadata": {},
   "source": [
    "https://langchain.boblin.app/lcel/code"
   ]
  },
  {
   "cell_type": "code",
   "execution_count": 25,
   "id": "9d4ecf30-3eb6-4e77-92e9-1318760598fd",
   "metadata": {},
   "outputs": [
    {
     "name": "stdout",
     "output_type": "stream",
     "text": [
      "Why did the bears invite the foo to their picnic? Because they heard it was un-bear-ably delicious!\n"
     ]
    }
   ],
   "source": [
    "import os\n",
    "os.environ['OPENAI_API_KEY'] = os.environ.get('OPENAI_API_KEY')\n",
    "prompt_template = PromptTemplate.from_template(\n",
    "   \"Tell me a {adjective} joke abot  {content}\",\n",
    ")\n",
    "prompt_template.invoke({\"adjective\":\"funny\",\"content\":\"chickens\"})\n",
    "\n",
    "from langchain.chat_models import ChatOpenAI\n",
    "from langchain_core.prompts import ChatPromptTemplate\n",
    "from langchain_core.output_parsers import StrOutputParser\n",
    "\n",
    "model = ChatOpenAI()\n",
    "prompt = ChatPromptTemplate.from_template(\"tell me a joke about {foo}\")\n",
    "output_parser = StrOutputParser()\n",
    "chain = prompt|model|output_parser\n",
    "\n",
    "result = chain.invoke({\"foo\",\"bears\"})\n",
    "print(result)"
   ]
  },
  {
   "cell_type": "code",
   "execution_count": 36,
   "id": "a418dcf5-068c-424e-ada6-6b52bdf2307d",
   "metadata": {},
   "outputs": [
    {
     "data": {
      "text/plain": [
       "{'answer': \"Why couldn't the leopard play hide and seek? Because he was always spotted!\",\n",
       " 'source': 'https://www.countryliving.com/entertaining/g33084515/best-dad-jokes/'}"
      ]
     },
     "execution_count": 36,
     "metadata": {},
     "output_type": "execute_result"
    }
   ],
   "source": [
    "from langchain.output_parsers import PydanticOutputParser,ResponseSchema, StructuredOutputParser\n",
    "from langchain_core.pydantic_v1 import BaseModel, Field\n",
    "from langchain_core.output_parsers import JsonOutputParser\n",
    "\n",
    "class Joke(BaseModel):\n",
    "    setup: str = Field(description=\"question to set up a joke\")\n",
    "    punchline: str = Field(description=\"answer to resolve the joke\")\n",
    "#parser = PydanticOutputParser(pydantic_object=Joke)\n",
    "#parser = JsonOutputParser(pydantic_object=Joke)\n",
    "response_schemas = [\n",
    "    ResponseSchema(name=\"answer\", description=\"answer to the user's question\"),\n",
    "    ResponseSchema(name=\"source\", description=\"source used to answer the user's question, should be a website.\")\n",
    "]\n",
    "output_parser = StructuredOutputParser.from_response_schemas(response_schemas)\n",
    "prompt = PromptTemplate(\n",
    "    template=\"Answer the user query.\\n{format_instructions}\\n{query}\\n\",\n",
    "    input_variables=[\"query\"],\n",
    "    partial_variables={\"format_instructions\": output_parser.get_format_instructions()},\n",
    ")\n",
    "chain = prompt | model | parser\n",
    "chain.invoke({\"query\": \"Tell me a joke.\"})"
   ]
  },
  {
   "cell_type": "code",
   "execution_count": 27,
   "id": "f9d458f8-cf20-4a27-af5f-a75a13917fa2",
   "metadata": {},
   "outputs": [
    {
     "data": {
      "text/plain": [
       "'The output should be formatted as a JSON instance that conforms to the JSON schema below.\\n\\nAs an example, for the schema {\"properties\": {\"foo\": {\"title\": \"Foo\", \"description\": \"a list of strings\", \"type\": \"array\", \"items\": {\"type\": \"string\"}}}, \"required\": [\"foo\"]}\\nthe object {\"foo\": [\"bar\", \"baz\"]} is a well-formatted instance of the schema. The object {\"properties\": {\"foo\": [\"bar\", \"baz\"]}} is not well-formatted.\\n\\nHere is the output schema:\\n```\\n{\"properties\": {\"setup\": {\"title\": \"Setup\", \"description\": \"question to set up a joke\", \"type\": \"string\"}, \"punchline\": {\"title\": \"Punchline\", \"description\": \"answer to resolve the joke\", \"type\": \"string\"}}, \"required\": [\"setup\", \"punchline\"]}\\n```'"
      ]
     },
     "execution_count": 27,
     "metadata": {},
     "output_type": "execute_result"
    }
   ],
   "source": [
    "parser.get_format_instructions()"
   ]
  },
  {
   "cell_type": "code",
   "execution_count": 16,
   "id": "8ed70359-8aac-4954-be68-421490a42f4e",
   "metadata": {},
   "outputs": [
    {
     "data": {
      "text/plain": [
       "[SystemMessage(content='you are a helpful AI bot.Your name is bob'),\n",
       " HumanMessage(content='hello ,how are you doing '),\n",
       " AIMessage(content=\"I'm doing well .thanks\"),\n",
       " HumanMessage(content='what is your name')]"
      ]
     },
     "execution_count": 16,
     "metadata": {},
     "output_type": "execute_result"
    }
   ],
   "source": [
    "from langchain_core.prompts import ChatPromptTemplate\n",
    "chat_template = ChatPromptTemplate.from_messages([\n",
    "    (\"system\",\"you are a helpful AI bot.Your name is {name}\"),\n",
    "    (\"human\",\"hello ,how are you doing \"),\n",
    "    (\"ai\",\"I'm doing well .thanks\"),\n",
    "    (\"human\",\"{user_input}\")\n",
    "])\n",
    "messages = chat_template.format_messages(name=\"bob\",user_input=\"what is your name\")\n",
    "messages"
   ]
  },
  {
   "cell_type": "code",
   "execution_count": 8,
   "id": "dc09811e-e47b-4550-9765-70eddb7732ea",
   "metadata": {},
   "outputs": [
    {
     "name": "stdout",
     "output_type": "stream",
     "text": [
      "Tell me a funny joke abot the day 06/20/2024 16:02:25\n"
     ]
    }
   ],
   "source": [
    "from datetime import datetime\n",
    "def _get_datetime():\n",
    "    now = datetime.now()\n",
    "    return now.strftime(\"%m/%d/%Y %H:%M:%S\")\n",
    "_get_datetime()\n",
    "prompt = PromptTemplate(\n",
    "    template = \"Tell me a {adjective} joke abot the day {date}\",\n",
    "    input_variables=[\"adjective\",\"date\"],\n",
    ")\n",
    "partial_prompt = prompt.partial(date = _get_datetime)\n",
    "print(partial_prompt.format(adjective=\"funny\"))"
   ]
  },
  {
   "cell_type": "code",
   "execution_count": 1,
   "id": "f71fd2f2-d751-41a8-8515-532b7582f0d3",
   "metadata": {},
   "outputs": [
    {
     "data": {
      "text/plain": [
       "'Say Hi'"
      ]
     },
     "execution_count": 1,
     "metadata": {},
     "output_type": "execute_result"
    }
   ],
   "source": [
    "from langchain_core.prompts import PromptTemplate\n",
    "\n",
    "prompt = PromptTemplate.from_template(\"Say {foo}\")\n",
    "prompt.format(foo=\"Hi\")"
   ]
  },
  {
   "cell_type": "code",
   "execution_count": 4,
   "id": "4ad77b44-cd6b-4bcf-a8aa-ac5b3494d932",
   "metadata": {},
   "outputs": [
    {
     "name": "stdout",
     "output_type": "stream",
     "text": [
      "input_variables=['age'] partial_variables={'name': 'Bob'} template='Hello,{name}! you are {age} years old'\n"
     ]
    },
    {
     "data": {
      "text/plain": [
       "'Hello,Bob! you are 25 years old'"
      ]
     },
     "execution_count": 4,
     "metadata": {},
     "output_type": "execute_result"
    }
   ],
   "source": [
    "prompt = PromptTemplate.from_template(\"Hello,{name}! you are {age} years old\")\n",
    "partial_prompt = prompt.partial(name=\"Bob\")\n",
    "print(partial_prompt)\n",
    "partial_prompt.format(age=25)\n"
   ]
  }
 ],
 "metadata": {
  "kernelspec": {
   "display_name": "Python 3 (ipykernel)",
   "language": "python",
   "name": "python3"
  },
  "language_info": {
   "codemirror_mode": {
    "name": "ipython",
    "version": 3
   },
   "file_extension": ".py",
   "mimetype": "text/x-python",
   "name": "python",
   "nbconvert_exporter": "python",
   "pygments_lexer": "ipython3",
   "version": "3.8.1"
  }
 },
 "nbformat": 4,
 "nbformat_minor": 5
}
