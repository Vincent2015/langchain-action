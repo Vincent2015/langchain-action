{
 "cells": [
  {
   "cell_type": "markdown",
   "id": "9d1e24d0-e9fe-46f5-a7ed-bfaa780d0d32",
   "metadata": {
    "collapsed": true,
    "jupyter": {
     "outputs_hidden": true
    }
   },
   "source": [
    "pip install google-search-results"
   ]
  },
  {
   "cell_type": "markdown",
   "id": "e3930787-017b-4ddb-8291-b9bb91c3f9ba",
   "metadata": {},
   "source": [
    "pip install numexpr"
   ]
  },
  {
   "cell_type": "code",
   "execution_count": 11,
   "id": "e06cc45d-28f6-4800-8641-62095e304a38",
   "metadata": {},
   "outputs": [],
   "source": [
    "import os\n",
    "os.environ['OPENAI_API_KEY'] = os.environ.get('OPENAI_API_KEY')\n",
    "os.environ['SERPAPI_API_KEY'] = \"\"#os.environ.get('SERPAPI_API_KEY')"
   ]
  },
  {
   "cell_type": "code",
   "execution_count": 12,
   "id": "a6632b69-1f87-40e5-8747-6938515ea2df",
   "metadata": {},
   "outputs": [],
   "source": [
    "from langchain.agents import load_tools\n",
    "from langchain.agents import initialize_agent\n",
    "from langchain.agents import AgentType\n",
    "from langchain.llms import OpenAI\n",
    "\n",
    "from langchain.chat_models import ChatAnthropic,ChatOpenAI\n",
    "\n"
   ]
  },
  {
   "cell_type": "code",
   "execution_count": 24,
   "id": "dd0545e0-8950-44dc-ad2b-a0cc08483c74",
   "metadata": {},
   "outputs": [],
   "source": [
    "llm = OpenAI(temperature=0)\n",
    "tools = load_tools([\"serpapi\",\"llm-math\"],llm=llm)\n",
    "agent = initialize_agent(tools,llm,agent=AgentType.ZERO_SHOT_REACT_DESCRIPTION,verbose=True)"
   ]
  },
  {
   "cell_type": "code",
   "execution_count": 25,
   "id": "9811ee96-ee18-4cce-9c6a-12fceb2e4bbe",
   "metadata": {
    "scrolled": true
   },
   "outputs": [
    {
     "name": "stdout",
     "output_type": "stream",
     "text": [
      "\n",
      "\n",
      "\u001b[1m> Entering new AgentExecutor chain...\u001b[0m\n",
      "\u001b[32;1m\u001b[1;3m I should use the Search tool to find information about the current average price of roses in the market.\n",
      "Action: Search\n",
      "Action Input: \"average price of roses in market\"\u001b[0m\n",
      "Observation: \u001b[36;1m\u001b[1;3mThe average price for a dozen long-stem red roses in the U.S. is $88.61. The state where a dozen roses cost the most is Hawaii at $128.65. That's 45% more expensive than the national average. A dozen roses are most affordable in Alaska, costing $71.63 on average.\u001b[0m\n",
      "Thought:\u001b[32;1m\u001b[1;3m Now I have the average price, I can use the Calculator tool to calculate the price with a $15 markup.\n",
      "Action: Calculator\n",
      "Action Input: 88.61 + 15\u001b[0m\n",
      "Observation: \u001b[33;1m\u001b[1;3mAnswer: 103.61\u001b[0m\n",
      "Thought:\u001b[32;1m\u001b[1;3m I now know the final answer.\n",
      "Final Answer: If I want to sell roses with a $15 markup, I should price them at $103.61.\u001b[0m\n",
      "\n",
      "\u001b[1m> Finished chain.\u001b[0m\n"
     ]
    },
    {
     "data": {
      "text/plain": [
       "{'input': '目前市场上的玫瑰花均价是多少？如果我在此基础上加15美元卖出，应该如何定价',\n",
       " 'output': 'If I want to sell roses with a $15 markup, I should price them at $103.61.'}"
      ]
     },
     "execution_count": 25,
     "metadata": {},
     "output_type": "execute_result"
    }
   ],
   "source": [
    "agent.invoke(\"目前市场上的玫瑰花均价是多少？如果我在此基础上加15美元卖出，应该如何定价\")"
   ]
  },
  {
   "cell_type": "code",
   "execution_count": 7,
   "id": "6e667c5e-3a63-4184-9d38-de6d9cf9f1aa",
   "metadata": {},
   "outputs": [
    {
     "name": "stdout",
     "output_type": "stream",
     "text": [
      "\u001b[33mWARNING: Ignoring invalid distribution - (/Library/Frameworks/Python.framework/Versions/3.8/lib/python3.8/site-packages)\u001b[0m\u001b[33m\n",
      "\u001b[0m\u001b[33mWARNING: Ignoring invalid distribution -ip (/Library/Frameworks/Python.framework/Versions/3.8/lib/python3.8/site-packages)\u001b[0m\u001b[33m\n",
      "\u001b[0m\u001b[33mWARNING: Ignoring invalid distribution -okenizers (/Library/Frameworks/Python.framework/Versions/3.8/lib/python3.8/site-packages)\u001b[0m\u001b[33m\n",
      "\u001b[0mRequirement already satisfied: playwright in /Users/qiupengchao/lab/venv/lib/python3.8/site-packages (1.44.0)\n",
      "Requirement already satisfied: greenlet==3.0.3 in /Library/Frameworks/Python.framework/Versions/3.8/lib/python3.8/site-packages (from playwright) (3.0.3)\n",
      "Requirement already satisfied: pyee==11.1.0 in /Users/qiupengchao/lab/venv/lib/python3.8/site-packages (from playwright) (11.1.0)\n",
      "Requirement already satisfied: typing-extensions in /Library/Frameworks/Python.framework/Versions/3.8/lib/python3.8/site-packages (from pyee==11.1.0->playwright) (4.10.0)\n",
      "\u001b[33mWARNING: Ignoring invalid distribution - (/Library/Frameworks/Python.framework/Versions/3.8/lib/python3.8/site-packages)\u001b[0m\u001b[33m\n",
      "\u001b[0m\u001b[33mWARNING: Ignoring invalid distribution -ip (/Library/Frameworks/Python.framework/Versions/3.8/lib/python3.8/site-packages)\u001b[0m\u001b[33m\n",
      "\u001b[0m\u001b[33mWARNING: Ignoring invalid distribution -okenizers (/Library/Frameworks/Python.framework/Versions/3.8/lib/python3.8/site-packages)\u001b[0m\u001b[33m\n",
      "\u001b[0mNote: you may need to restart the kernel to use updated packages.\n"
     ]
    }
   ],
   "source": [
    "pip install playwright"
   ]
  },
  {
   "cell_type": "code",
   "execution_count": 22,
   "id": "ef2536f1-8974-4474-9f8d-95debb8358d0",
   "metadata": {},
   "outputs": [
    {
     "ename": "ModuleNotFoundError",
     "evalue": "No module named 'langchain.tools.playwright.utils'",
     "output_type": "error",
     "traceback": [
      "\u001b[0;31m---------------------------------------------------------------------------\u001b[0m",
      "\u001b[0;31mModuleNotFoundError\u001b[0m                       Traceback (most recent call last)",
      "Cell \u001b[0;32mIn[22], line 3\u001b[0m\n\u001b[1;32m      1\u001b[0m \u001b[38;5;28;01mfrom\u001b[39;00m \u001b[38;5;21;01mlangchain\u001b[39;00m\u001b[38;5;21;01m.\u001b[39;00m\u001b[38;5;21;01magents\u001b[39;00m\u001b[38;5;21;01m.\u001b[39;00m\u001b[38;5;21;01magent_toolkits\u001b[39;00m \u001b[38;5;28;01mimport\u001b[39;00m PlayWrightBrowserToolkit\n\u001b[1;32m      2\u001b[0m \u001b[38;5;66;03m#from langchain.tools.playwright.utils import create_async_playwright_browser\u001b[39;00m\n\u001b[0;32m----> 3\u001b[0m \u001b[38;5;28;01mfrom\u001b[39;00m \u001b[38;5;21;01mlangchain\u001b[39;00m\u001b[38;5;21;01m.\u001b[39;00m\u001b[38;5;21;01mtools\u001b[39;00m\u001b[38;5;21;01m.\u001b[39;00m\u001b[38;5;21;01mplaywright\u001b[39;00m\u001b[38;5;21;01m.\u001b[39;00m\u001b[38;5;21;01mutils\u001b[39;00m \u001b[38;5;28;01mimport\u001b[39;00m create_async_playwright_browser\n\u001b[1;32m      4\u001b[0m async_browser \u001b[38;5;241m=\u001b[39m create_async_playwright_browser()\n\u001b[1;32m      5\u001b[0m toolkit \u001b[38;5;241m=\u001b[39m PlayWrightBrowserToolkit\u001b[38;5;241m.\u001b[39mfrom_browser(async_browser\u001b[38;5;241m=\u001b[39masync_browser)\n",
      "\u001b[0;31mModuleNotFoundError\u001b[0m: No module named 'langchain.tools.playwright.utils'"
     ]
    }
   ],
   "source": [
    "from langchain.agents.agent_toolkits import PlayWrightBrowserToolkit\n",
    "#from langchain.tools.playwright.utils import create_async_playwright_browser\n",
    "from langchain.tools.playwright.utils import create_async_playwright_browser\n",
    "async_browser = create_async_playwright_browser()\n",
    "toolkit = PlayWrightBrowserToolkit.from_browser(async_browser=async_browser)\n",
    "tools = toolkit.get_tools()\n",
    "print(tools)\n"
   ]
  },
  {
   "cell_type": "code",
   "execution_count": 31,
   "id": "1294b1a7-3663-4215-bdef-048147d147b6",
   "metadata": {},
   "outputs": [
    {
     "ename": "NameError",
     "evalue": "name 'main' is not defined",
     "output_type": "error",
     "traceback": [
      "\u001b[0;31m---------------------------------------------------------------------------\u001b[0m",
      "\u001b[0;31mNameError\u001b[0m                                 Traceback (most recent call last)",
      "Cell \u001b[0;32mIn[31], line 10\u001b[0m\n\u001b[1;32m      8\u001b[0m \u001b[38;5;28;01mimport\u001b[39;00m \u001b[38;5;21;01masyncio\u001b[39;00m\n\u001b[1;32m      9\u001b[0m loop \u001b[38;5;241m=\u001b[39m asyncio\u001b[38;5;241m.\u001b[39mget_event_loop()\n\u001b[0;32m---> 10\u001b[0m loop\u001b[38;5;241m.\u001b[39mrun_until_complete(\u001b[43mmain\u001b[49m())\n",
      "\u001b[0;31mNameError\u001b[0m: name 'main' is not defined"
     ]
    }
   ],
   "source": [
    "agent_chain = initialize_agent(\n",
    "    tools,\n",
    "    llm,\n",
    "    agent=AgentType.STRUCTURED_CHAT_ZERO_SHOT_REACT_DESCRIPTION,\n",
    "    verbose=True\n",
    ")\n",
    "import asyncio\n",
    "loop = asyncio.get_event_loop()\n",
    "loop.run_until_complete(main())"
   ]
  },
  {
   "cell_type": "code",
   "execution_count": 13,
   "id": "d1086f26-c6e6-406f-aebf-63ce117fb314",
   "metadata": {},
   "outputs": [],
   "source": [
    "from langchain import SerpAPIWrapper\n",
    "from langchain.agents import Tool"
   ]
  },
  {
   "cell_type": "code",
   "execution_count": 21,
   "id": "759b13ed-5b45-437c-831b-0a28653b2993",
   "metadata": {},
   "outputs": [
    {
     "name": "stderr",
     "output_type": "stream",
     "text": [
      "/Library/Frameworks/Python.framework/Versions/3.8/lib/python3.8/site-packages/langchain_core/_api/deprecation.py:139: LangChainDeprecationWarning: The function `initialize_agent` was deprecated in LangChain 0.1.0 and will be removed in 0.3.0. Use Use new agent constructor methods like create_react_agent, create_json_agent, create_structured_chat_agent, etc. instead.\n",
      "  warn_deprecated(\n"
     ]
    },
    {
     "name": "stdout",
     "output_type": "stream",
     "text": [
      "\n",
      "\n",
      "\u001b[1m> Entering new AgentExecutor chain...\u001b[0m\n",
      "\u001b[32;1m\u001b[1;3mCould not parse output:  No. \n",
      "Final answer: 这个问题无法回答，因为没有提供国家的名称。\u001b[0m\n",
      "Intermediate answer: Invalid or incomplete response\n",
      "\u001b[32;1m\u001b[1;3mCould not parse output: \u001b[0m\n",
      "Intermediate answer: Invalid or incomplete response\n",
      "\u001b[32;1m\u001b[1;3mCould not parse output: Final answer: 无法回答这个问题，因为没有提供国家的名称。\u001b[0m\n",
      "Intermediate answer: Invalid or incomplete response\n",
      "\u001b[32;1m\u001b[1;3mCould not parse output: Could not parse output: Final answer: 无法回答这个问题，因为没有提供国家的名称。\u001b[0m\n",
      "Intermediate answer: Invalid or incomplete response\n",
      "\u001b[32;1m\u001b[1;3mCould not parse output: Could not parse output: Could not parse output: Final answer: 无法回答这个问题，因为没有提供国家的名称。\u001b[0m\n",
      "Intermediate answer: Invalid or incomplete response\n",
      "\u001b[32;1m\u001b[1;3mCould not parse output: Could not parse output: Could not parse output: Could not parse output: Could not parse output: Final answer: 无法回答这个问题，因为没有提供国家的名称。\u001b[0m\n",
      "Intermediate answer: Invalid or incomplete response\n",
      "\u001b[32;1m\u001b[1;3mCould not parse output: Could not parse output: Could not parse output: Could not parse output: Could not parse output: Could not parse output: Could not parse output: Final answer: 无法回答这个问题，因为没有提供国家的名称。\u001b[0m\n",
      "Intermediate answer: Invalid or incomplete response\n",
      "\u001b[32;1m\u001b[1;3mCould not parse output: Could not parse output: Could not parse output: Could not parse output: Could not parse output: Could not parse output: Could not parse output: Could not parse output: Could not parse output: Final answer: 无法回答这个问题，因为没有提供国家的名称。\u001b[0m\n",
      "Intermediate answer: Invalid or incomplete response\n",
      "\u001b[32;1m\u001b[1;3mCould not parse output: Could not parse output: Could not parse output: Could not parse output: Could not parse output: Could not parse output: Could not parse output: Could not parse output: Could not parse output: Could not parse output: Could not parse output: Final answer: 无法回答这个问题，因为没有提供国家的名称。\u001b[0m\n",
      "Intermediate answer: Invalid or incomplete response\n",
      "\u001b[32;1m\u001b[1;3mCould not parse output: Could not parse output: Could not parse output: Could not parse output: Could not parse output: Could not parse output: Could not parse output: Could not parse output: Could not parse output: Could not parse output: Could not parse output: Could not parse output: Could not parse output: Final answer: 无法回答这个问题，因为没有提供国家的名称。\u001b[0m\n",
      "Intermediate answer: Invalid or incomplete response\n",
      "\u001b[32;1m\u001b[1;3mCould not parse output: Could not parse output: Could not parse output: Could not parse output: Could not parse output: Could not parse output: Could not parse output: Could not parse output: Could not parse output: Could not parse output: Could not parse output: Could not parse output: Could not parse output: Could not parse output: Could not parse output: Final answer: 无法回答这个问题，因为没有提供国家的名称。\u001b[0m\n",
      "Intermediate answer: Invalid or incomplete response\n",
      "\u001b[32;1m\u001b[1;3mCould not parse output: Could not parse output: Could not parse output: Could not parse output: Could not parse output: Could not parse output: Could not parse output: Could not parse output: Could not parse output: Could not parse output: Could not parse output: Could not parse output: Could not parse output: Could not parse output: Could not parse output: Could not parse output: Could not parse output: Final answer: 无法回答这个问题，因为没有提供国家的名称。\u001b[0m\n",
      "Intermediate answer: Invalid or incomplete response\n",
      "\u001b[32;1m\u001b[1;3mCould not parse output: Could not parse output: Could not parse output: Could not parse output: Could not parse output: Could not parse output: Could not parse output: Could not parse output: Could not parse output: Could not parse output: Could not parse output: Could not parse output: Could not parse output: Could not parse output: Could not parse output: Could not parse output: Could not parse output: Could not parse output: Could not parse output: Final answer: 无法回答这个问题，因为没有提供国家的名称。\u001b[0m\n",
      "Intermediate answer: Invalid or incomplete response\n",
      "\u001b[32;1m\u001b[1;3mCould not parse output: Could not parse output: Could not parse output: Could not parse output: Could not parse output: Could not parse output: Could not parse output: Could not parse output: Could not parse output: Could not parse output: Could not parse output: Could not parse output: Could not parse output: Could not parse output: Could not parse output: Could not parse output: Could not parse output: Could not parse output: Could not parse output: Could not parse output: Could not parse output: Could not parse output: Final answer: 无法回答这个问题，因为没有提供国家的名称。\u001b[0m\n",
      "Intermediate answer: Invalid or incomplete response\n",
      "\u001b[32;1m\u001b[1;3mCould not parse output: Could not parse output: Could not parse output: Could not parse output: Could not parse output: Could not parse output: Could not parse output: Could not parse output: Could not parse output: Could not parse output: Could not parse output: Could not parse output: Could not parse output: Could not parse output: Could not parse output: Could not parse output: Could not parse output: Could not parse output: Could not parse output: Could not parse output: Could not parse output: Could not parse output: Could not parse output: Could not parse output: Could not parse output: Final answer: 无法回答这个问题，因为没有提供国家的名称。\u001b[0m\n",
      "Intermediate answer: Invalid or incomplete response\n",
      "\u001b[32;1m\u001b[1;3m\u001b[0m\n",
      "\n",
      "\u001b[1m> Finished chain.\u001b[0m\n"
     ]
    },
    {
     "data": {
      "text/plain": [
       "{'input': '使用玫瑰花作为国花的国家的首都是那里？',\n",
       " 'output': 'Agent stopped due to iteration limit or time limit.'}"
      ]
     },
     "execution_count": 21,
     "metadata": {},
     "output_type": "execute_result"
    }
   ],
   "source": [
    "llm_self = OpenAI(temperature=0)\n",
    "search = SerpAPIWrapper()\n",
    "tools = [\n",
    "    Tool(\n",
    "        name = \"Intermediate Answer\",\n",
    "        func = search.run,\n",
    "        description =\"useful for when you need to ask with search\"\n",
    "    )\n",
    "]\n",
    "self_ask_with_search =  initialize_agent(\n",
    "    tools,\n",
    "    llm_self,\n",
    "    agent=AgentType.SELF_ASK_WITH_SEARCH,\n",
    "    handle_parsing_errors=True,\n",
    "    verbose=True\n",
    ")\n",
    "\n",
    "self_ask_with_search.invoke(\"使用玫瑰花作为国花的国家的首都是那里？\")"
   ]
  },
  {
   "cell_type": "code",
   "execution_count": 30,
   "id": "fd26cde5-8d1a-4372-8f63-482c102a7429",
   "metadata": {},
   "outputs": [
    {
     "name": "stdout",
     "output_type": "stream",
     "text": [
      "\n",
      "\n",
      "\u001b[1m> Entering new AgentExecutor chain...\u001b[0m\n",
      "\u001b[32;1m\u001b[1;3mCould not parse output:  No.\u001b[0m\n",
      "Intermediate answer: Invalid or incomplete response\n",
      "\u001b[32;1m\u001b[1;3mSo the final answer is: Invalid or incomplete response\u001b[0m\n",
      "\n",
      "\u001b[1m> Finished chain.\u001b[0m\n"
     ]
    },
    {
     "data": {
      "text/plain": [
       "'Invalid or incomplete response'"
      ]
     },
     "execution_count": 30,
     "metadata": {},
     "output_type": "execute_result"
    }
   ],
   "source": [
    "from langchain import OpenAI, SerpAPIWrapper \n",
    "from langchain.agents import initialize_agent, Tool\n",
    "from langchain.agents import AgentType\n",
    "\n",
    "llm = OpenAI(temperature=0)\n",
    "search = SerpAPIWrapper()\n",
    "tools = [\n",
    "    Tool(\n",
    "        name=\"Intermediate Answer\", \n",
    "        func=search.run,\n",
    "        description=\"useful for when you need to ask with search\",\n",
    "    )\n",
    "]\n",
    "\n",
    "self_ask_with_search = initialize_agent(\n",
    "    tools, llm, agent=AgentType.SELF_ASK_WITH_SEARCH, verbose=True,handle_parsing_errors=True\n",
    ")\n",
    "self_ask_with_search.run(\n",
    "    \"使用玫瑰作为国花的国家的首都是哪里?\"  \n",
    ")"
   ]
  },
  {
   "cell_type": "code",
   "execution_count": 36,
   "id": "27cc47a1-653e-4ef9-82b4-6522527a3b3f",
   "metadata": {},
   "outputs": [
    {
     "name": "stdout",
     "output_type": "stream",
     "text": [
      "\u001b[33mWARNING: Ignoring invalid distribution - (/Library/Frameworks/Python.framework/Versions/3.8/lib/python3.8/site-packages)\u001b[0m\u001b[33m\n",
      "\u001b[0m\u001b[33mWARNING: Ignoring invalid distribution -ip (/Library/Frameworks/Python.framework/Versions/3.8/lib/python3.8/site-packages)\u001b[0m\u001b[33m\n",
      "\u001b[0m\u001b[33mWARNING: Ignoring invalid distribution -okenizers (/Library/Frameworks/Python.framework/Versions/3.8/lib/python3.8/site-packages)\u001b[0m\u001b[33m\n",
      "\u001b[0mCollecting langchain_experimental\n",
      "  Downloading langchain_experimental-0.0.61-py3-none-any.whl.metadata (1.5 kB)\n",
      "Requirement already satisfied: langchain-community<0.3.0,>=0.2.5 in /Library/Frameworks/Python.framework/Versions/3.8/lib/python3.8/site-packages (from langchain_experimental) (0.2.5)\n",
      "Requirement already satisfied: langchain-core<0.3.0,>=0.2.7 in /Library/Frameworks/Python.framework/Versions/3.8/lib/python3.8/site-packages (from langchain_experimental) (0.2.7)\n",
      "Requirement already satisfied: PyYAML>=5.3 in /Library/Frameworks/Python.framework/Versions/3.8/lib/python3.8/site-packages (from langchain-community<0.3.0,>=0.2.5->langchain_experimental) (6.0.1)\n",
      "Requirement already satisfied: SQLAlchemy<3,>=1.4 in /Library/Frameworks/Python.framework/Versions/3.8/lib/python3.8/site-packages (from langchain-community<0.3.0,>=0.2.5->langchain_experimental) (2.0.30)\n",
      "Requirement already satisfied: aiohttp<4.0.0,>=3.8.3 in /Library/Frameworks/Python.framework/Versions/3.8/lib/python3.8/site-packages (from langchain-community<0.3.0,>=0.2.5->langchain_experimental) (3.9.5)\n",
      "Requirement already satisfied: dataclasses-json<0.7,>=0.5.7 in /Library/Frameworks/Python.framework/Versions/3.8/lib/python3.8/site-packages (from langchain-community<0.3.0,>=0.2.5->langchain_experimental) (0.6.7)\n",
      "Requirement already satisfied: langchain<0.3.0,>=0.2.5 in /Library/Frameworks/Python.framework/Versions/3.8/lib/python3.8/site-packages (from langchain-community<0.3.0,>=0.2.5->langchain_experimental) (0.2.5)\n",
      "Requirement already satisfied: langsmith<0.2.0,>=0.1.0 in /Library/Frameworks/Python.framework/Versions/3.8/lib/python3.8/site-packages (from langchain-community<0.3.0,>=0.2.5->langchain_experimental) (0.1.77)\n",
      "Requirement already satisfied: numpy<2,>=1 in /Users/qiupengchao/lab/venv/lib/python3.8/site-packages (from langchain-community<0.3.0,>=0.2.5->langchain_experimental) (1.24.4)\n",
      "Requirement already satisfied: requests<3,>=2 in /Library/Frameworks/Python.framework/Versions/3.8/lib/python3.8/site-packages (from langchain-community<0.3.0,>=0.2.5->langchain_experimental) (2.32.3)\n",
      "Requirement already satisfied: tenacity<9.0.0,>=8.1.0 in /Library/Frameworks/Python.framework/Versions/3.8/lib/python3.8/site-packages (from langchain-community<0.3.0,>=0.2.5->langchain_experimental) (8.3.0)\n",
      "Requirement already satisfied: jsonpatch<2.0,>=1.33 in /Library/Frameworks/Python.framework/Versions/3.8/lib/python3.8/site-packages (from langchain-core<0.3.0,>=0.2.7->langchain_experimental) (1.33)\n",
      "Requirement already satisfied: packaging<25,>=23.2 in /Library/Frameworks/Python.framework/Versions/3.8/lib/python3.8/site-packages (from langchain-core<0.3.0,>=0.2.7->langchain_experimental) (23.2)\n",
      "Requirement already satisfied: pydantic<3,>=1 in /Library/Frameworks/Python.framework/Versions/3.8/lib/python3.8/site-packages (from langchain-core<0.3.0,>=0.2.7->langchain_experimental) (2.7.1)\n",
      "Requirement already satisfied: aiosignal>=1.1.2 in /Library/Frameworks/Python.framework/Versions/3.8/lib/python3.8/site-packages (from aiohttp<4.0.0,>=3.8.3->langchain-community<0.3.0,>=0.2.5->langchain_experimental) (1.3.1)\n",
      "Requirement already satisfied: attrs>=17.3.0 in /Library/Frameworks/Python.framework/Versions/3.8/lib/python3.8/site-packages (from aiohttp<4.0.0,>=3.8.3->langchain-community<0.3.0,>=0.2.5->langchain_experimental) (23.2.0)\n",
      "Requirement already satisfied: frozenlist>=1.1.1 in /Library/Frameworks/Python.framework/Versions/3.8/lib/python3.8/site-packages (from aiohttp<4.0.0,>=3.8.3->langchain-community<0.3.0,>=0.2.5->langchain_experimental) (1.4.1)\n",
      "Requirement already satisfied: multidict<7.0,>=4.5 in /Library/Frameworks/Python.framework/Versions/3.8/lib/python3.8/site-packages (from aiohttp<4.0.0,>=3.8.3->langchain-community<0.3.0,>=0.2.5->langchain_experimental) (6.0.5)\n",
      "Requirement already satisfied: yarl<2.0,>=1.0 in /Library/Frameworks/Python.framework/Versions/3.8/lib/python3.8/site-packages (from aiohttp<4.0.0,>=3.8.3->langchain-community<0.3.0,>=0.2.5->langchain_experimental) (1.9.4)\n",
      "Requirement already satisfied: async-timeout<5.0,>=4.0 in /Library/Frameworks/Python.framework/Versions/3.8/lib/python3.8/site-packages (from aiohttp<4.0.0,>=3.8.3->langchain-community<0.3.0,>=0.2.5->langchain_experimental) (4.0.3)\n",
      "Requirement already satisfied: marshmallow<4.0.0,>=3.18.0 in /Library/Frameworks/Python.framework/Versions/3.8/lib/python3.8/site-packages (from dataclasses-json<0.7,>=0.5.7->langchain-community<0.3.0,>=0.2.5->langchain_experimental) (3.21.3)\n",
      "Requirement already satisfied: typing-inspect<1,>=0.4.0 in /Library/Frameworks/Python.framework/Versions/3.8/lib/python3.8/site-packages (from dataclasses-json<0.7,>=0.5.7->langchain-community<0.3.0,>=0.2.5->langchain_experimental) (0.9.0)\n",
      "Requirement already satisfied: jsonpointer>=1.9 in /Library/Frameworks/Python.framework/Versions/3.8/lib/python3.8/site-packages (from jsonpatch<2.0,>=1.33->langchain-core<0.3.0,>=0.2.7->langchain_experimental) (2.4)\n",
      "Requirement already satisfied: langchain-text-splitters<0.3.0,>=0.2.0 in /Library/Frameworks/Python.framework/Versions/3.8/lib/python3.8/site-packages (from langchain<0.3.0,>=0.2.5->langchain-community<0.3.0,>=0.2.5->langchain_experimental) (0.2.0)\n",
      "Requirement already satisfied: orjson<4.0.0,>=3.9.14 in /Library/Frameworks/Python.framework/Versions/3.8/lib/python3.8/site-packages (from langsmith<0.2.0,>=0.1.0->langchain-community<0.3.0,>=0.2.5->langchain_experimental) (3.10.3)\n",
      "Requirement already satisfied: annotated-types>=0.4.0 in /Library/Frameworks/Python.framework/Versions/3.8/lib/python3.8/site-packages (from pydantic<3,>=1->langchain-core<0.3.0,>=0.2.7->langchain_experimental) (0.7.0)\n",
      "Requirement already satisfied: pydantic-core==2.18.2 in /Library/Frameworks/Python.framework/Versions/3.8/lib/python3.8/site-packages (from pydantic<3,>=1->langchain-core<0.3.0,>=0.2.7->langchain_experimental) (2.18.2)\n",
      "Requirement already satisfied: typing-extensions>=4.6.1 in /Library/Frameworks/Python.framework/Versions/3.8/lib/python3.8/site-packages (from pydantic<3,>=1->langchain-core<0.3.0,>=0.2.7->langchain_experimental) (4.10.0)\n",
      "Requirement already satisfied: charset-normalizer<4,>=2 in /Library/Frameworks/Python.framework/Versions/3.8/lib/python3.8/site-packages (from requests<3,>=2->langchain-community<0.3.0,>=0.2.5->langchain_experimental) (3.1.0)\n",
      "Requirement already satisfied: idna<4,>=2.5 in /Library/Frameworks/Python.framework/Versions/3.8/lib/python3.8/site-packages (from requests<3,>=2->langchain-community<0.3.0,>=0.2.5->langchain_experimental) (3.4)\n",
      "Requirement already satisfied: urllib3<3,>=1.21.1 in /Library/Frameworks/Python.framework/Versions/3.8/lib/python3.8/site-packages (from requests<3,>=2->langchain-community<0.3.0,>=0.2.5->langchain_experimental) (1.26.18)\n",
      "Requirement already satisfied: certifi>=2017.4.17 in /Library/Frameworks/Python.framework/Versions/3.8/lib/python3.8/site-packages (from requests<3,>=2->langchain-community<0.3.0,>=0.2.5->langchain_experimental) (2022.12.7)\n",
      "Requirement already satisfied: greenlet!=0.4.17 in /Library/Frameworks/Python.framework/Versions/3.8/lib/python3.8/site-packages (from SQLAlchemy<3,>=1.4->langchain-community<0.3.0,>=0.2.5->langchain_experimental) (3.0.3)\n",
      "Requirement already satisfied: mypy-extensions>=0.3.0 in /Library/Frameworks/Python.framework/Versions/3.8/lib/python3.8/site-packages (from typing-inspect<1,>=0.4.0->dataclasses-json<0.7,>=0.5.7->langchain-community<0.3.0,>=0.2.5->langchain_experimental) (1.0.0)\n",
      "Downloading langchain_experimental-0.0.61-py3-none-any.whl (202 kB)\n",
      "\u001b[2K   \u001b[90m━━━━━━━━━━━━━━━━━━━━━━━━━━━━━━━━━━━━━━━\u001b[0m \u001b[32m202.5/202.5 kB\u001b[0m \u001b[31m537.8 kB/s\u001b[0m eta \u001b[36m0:00:00\u001b[0ma \u001b[36m0:00:01\u001b[0m\n",
      "\u001b[?25h\u001b[33mWARNING: Ignoring invalid distribution - (/Library/Frameworks/Python.framework/Versions/3.8/lib/python3.8/site-packages)\u001b[0m\u001b[33m\n",
      "\u001b[0m\u001b[33mWARNING: Ignoring invalid distribution -ip (/Library/Frameworks/Python.framework/Versions/3.8/lib/python3.8/site-packages)\u001b[0m\u001b[33m\n",
      "\u001b[0m\u001b[33mWARNING: Ignoring invalid distribution -okenizers (/Library/Frameworks/Python.framework/Versions/3.8/lib/python3.8/site-packages)\u001b[0m\u001b[33m\n",
      "\u001b[0mInstalling collected packages: langchain_experimental\n",
      "Successfully installed langchain_experimental-0.0.61\n",
      "Note: you may need to restart the kernel to use updated packages.\n"
     ]
    }
   ],
   "source": [
    "pip install langchain_experimental"
   ]
  },
  {
   "cell_type": "code",
   "execution_count": 8,
   "id": "fff29e2d-65d8-4892-abfe-70a1b477da7c",
   "metadata": {},
   "outputs": [],
   "source": [
    "from langchain_experimental.plan_and_execute import (\n",
    "    PlanAndExecute,\n",
    "    load_agent_executor,\n",
    "    load_chat_planner,\n",
    ")\n",
    "from langchain import LLMMathChain\n"
   ]
  },
  {
   "cell_type": "code",
   "execution_count": 20,
   "id": "d79ab3ab-b90e-413a-afbf-74c96be8a803",
   "metadata": {},
   "outputs": [
    {
     "name": "stdout",
     "output_type": "stream",
     "text": [
      "\n",
      "\n",
      "\u001b[1m> Entering new PlanAndExecute chain...\u001b[0m\n",
      "steps=[Step(value='Determine the average price of a bouquet of roses.'), Step(value='Divide 100 by the average price of a bouquet of roses to calculate how many bouquets can be purchased with 100 dollars.'), Step(value='Round down the result to the nearest whole number since you cannot purchase a fraction of a bouquet.'), Step(value='Provide the final answer to the user.'), Step(value=\"Given the above steps taken, please respond to the user's original question. \\n\")]\n",
      "\n",
      "\u001b[1m> Entering new AgentExecutor chain...\u001b[0m\n",
      "\u001b[32;1m\u001b[1;3mThought: To determine the average price of a bouquet of roses, we need to know the prices of multiple bouquets and then calculate the average.\n",
      "\n",
      "Action:\n",
      "```\n",
      "{\n",
      "  \"action\": \"Final Answer\",\n",
      "  \"action_input\": \"To determine the average price of a bouquet of roses, you need to gather the prices of multiple bouquets and then calculate the average by adding up all the prices and dividing by the number of bouquets.\"\n",
      "}\n",
      "```\u001b[0m\n",
      "\n",
      "\u001b[1m> Finished chain.\u001b[0m\n",
      "*****\n",
      "\n",
      "Step: Determine the average price of a bouquet of roses.\n",
      "\n",
      "Response: To determine the average price of a bouquet of roses, you need to gather the prices of multiple bouquets and then calculate the average by adding up all the prices and dividing by the number of bouquets.\n",
      "\n",
      "\u001b[1m> Entering new AgentExecutor chain...\u001b[0m\n",
      "\u001b[32;1m\u001b[1;3mThought: I need to calculate the average price of a bouquet of roses first before proceeding to divide 100 by that average price.\n",
      "\n",
      "Action:\n",
      "```\n",
      "{\n",
      "  \"action\": \"Final Answer\",\n",
      "  \"action_input\": \"I will calculate the average price of a bouquet of roses first.\"\n",
      "}\n",
      "```\u001b[0m\n",
      "\n",
      "\u001b[1m> Finished chain.\u001b[0m\n",
      "*****\n",
      "\n",
      "Step: Divide 100 by the average price of a bouquet of roses to calculate how many bouquets can be purchased with 100 dollars.\n",
      "\n",
      "Response: I will calculate the average price of a bouquet of roses first.\n",
      "\n",
      "\u001b[1m> Entering new AgentExecutor chain...\u001b[0m\n",
      "\u001b[32;1m\u001b[1;3mThought: I need to calculate the number of bouquets that can be purchased with $100 after determining the average price of a bouquet of roses.\n",
      "\n",
      "Action:\n",
      "```\n",
      "{\n",
      "  \"action\": \"Final Answer\",\n",
      "  \"action_input\": \"Round down the result of the division to the nearest whole number.\"\n",
      "}\n",
      "```\u001b[0m\n",
      "\n",
      "\u001b[1m> Finished chain.\u001b[0m\n",
      "*****\n",
      "\n",
      "Step: Round down the result to the nearest whole number since you cannot purchase a fraction of a bouquet.\n",
      "\n",
      "Response: Round down the result of the division to the nearest whole number.\n",
      "\n",
      "\u001b[1m> Entering new AgentExecutor chain...\u001b[0m\n",
      "\u001b[32;1m\u001b[1;3mThought: The final answer involves calculating the average price of a bouquet of roses, dividing 100 by this average price, and then rounding down the result to the nearest whole number.\n",
      "\n",
      "Action:\n",
      "```\n",
      "{\n",
      "  \"action\": \"Final Answer\",\n",
      "  \"action_input\": \"The final answer is the number of bouquets that can be purchased with $100 after calculating the average price of a bouquet of roses and rounding down the result.\"\n",
      "}\n",
      "```\u001b[0m\n",
      "\n",
      "\u001b[1m> Finished chain.\u001b[0m\n",
      "*****\n",
      "\n",
      "Step: Provide the final answer to the user.\n",
      "\n",
      "Response: The final answer is the number of bouquets that can be purchased with $100 after calculating the average price of a bouquet of roses and rounding down the result.\n",
      "\n",
      "\u001b[1m> Entering new AgentExecutor chain...\u001b[0m\n",
      "\u001b[32;1m\u001b[1;3mThought: The user's original question is to determine how many bouquets of roses can be purchased with $100 after calculating the average price of a bouquet of roses and rounding down the result.\n",
      "\n",
      "Action:\n",
      "```\n",
      "{\n",
      "  \"action\": \"Final Answer\",\n",
      "  \"action_input\": \"The number of bouquets that can be purchased with $100 after calculating the average price of a bouquet of roses and rounding down the result will be the final answer.\"\n",
      "}\n",
      "```\u001b[0m\n",
      "\n",
      "\u001b[1m> Finished chain.\u001b[0m\n",
      "*****\n",
      "\n",
      "Step: Given the above steps taken, please respond to the user's original question. \n",
      "\n",
      "\n",
      "Response: The number of bouquets that can be purchased with $100 after calculating the average price of a bouquet of roses and rounding down the result will be the final answer.\n",
      "\u001b[1m> Finished chain.\u001b[0m\n"
     ]
    },
    {
     "data": {
      "text/plain": [
       "'The number of bouquets that can be purchased with $100 after calculating the average price of a bouquet of roses and rounding down the result will be the final answer.'"
      ]
     },
     "execution_count": 20,
     "metadata": {},
     "output_type": "execute_result"
    }
   ],
   "source": [
    "search = search = SerpAPIWrapper()\n",
    "llm_plan = OpenAI(temperature=0)\n",
    "llm_math_chain =  LLMMathChain.from_llm(llm=llm_plan,verbose=True)\n",
    "tools = [\n",
    "    Tool(\n",
    "        name =\"Search\",\n",
    "        func = search.run,\n",
    "        description = \"useful for when  you need to answer questions about current events\"\n",
    "    ),\n",
    "    Tool(\n",
    "        name = \"Calculator\",\n",
    "        func = llm_math_chain.run,\n",
    "        description = \"useful for when you need to answer question about math\"\n",
    "    )\n",
    "]\n",
    "\n",
    "model = ChatOpenAI(temperature=0)\n",
    "planner = load_chat_planner(model)\n",
    "executor = load_agent_executor(model,tools,verbose=True)\n",
    "agent = PlanAndExecute(\n",
    "    planner = planner,\n",
    "    executor = executor,\n",
    "    verbose = True\n",
    ")\n",
    "\n",
    "agent.run(\"100美元能买几束玫瑰？\")"
   ]
  }
 ],
 "metadata": {
  "kernelspec": {
   "display_name": "Python 3 (ipykernel)",
   "language": "python",
   "name": "python3"
  },
  "language_info": {
   "codemirror_mode": {
    "name": "ipython",
    "version": 3
   },
   "file_extension": ".py",
   "mimetype": "text/x-python",
   "name": "python",
   "nbconvert_exporter": "python",
   "pygments_lexer": "ipython3",
   "version": "3.8.1"
  }
 },
 "nbformat": 4,
 "nbformat_minor": 5
}
